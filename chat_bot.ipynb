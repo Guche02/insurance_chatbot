{
 "cells": [
  {
   "cell_type": "code",
   "execution_count": 2,
   "metadata": {},
   "outputs": [
    {
     "name": "stderr",
     "output_type": "stream",
     "text": [
      "d:\\insurance-chatbot\\env\\Lib\\site-packages\\tqdm\\auto.py:21: TqdmWarning: IProgress not found. Please update jupyter and ipywidgets. See https://ipywidgets.readthedocs.io/en/stable/user_install.html\n",
      "  from .autonotebook import tqdm as notebook_tqdm\n"
     ]
    }
   ],
   "source": [
    "from chromadb import PersistentClient\n",
    "from utils.prompt import get_prompt\n",
    "from utils.llm import run_chat\n",
    "from sentence_transformers import SentenceTransformer \n"
   ]
  },
  {
   "cell_type": "code",
   "execution_count": 3,
   "metadata": {},
   "outputs": [],
   "source": [
    "model = SentenceTransformer('sentence-transformers/all-MiniLM-L6-v2')"
   ]
  },
  {
   "cell_type": "code",
   "execution_count": 4,
   "metadata": {},
   "outputs": [],
   "source": [
    "client = PersistentClient(path=\"vectordb/\")\n",
    "collection = client.get_collection(name=\"knowlage_base\")"
   ]
  },
  {
   "cell_type": "code",
   "execution_count": null,
   "metadata": {},
   "outputs": [],
   "source": []
  },
  {
   "cell_type": "code",
   "execution_count": null,
   "metadata": {},
   "outputs": [],
   "source": [
    "def chatbot(question):\n",
    "    question_embedding = model.encode(question)\n",
    "    context = collection.query(\n",
    "    query_embeddings=question_embedding,  \n",
    "    n_results=2\n",
    "    )   \n",
    "    # print(f\"Retrived context: {context}\")\n",
    "    prompt = get_prompt(context['documents'],question)\n",
    "    return run_chat(prompt)"
   ]
  },
  {
   "cell_type": "code",
   "execution_count": null,
   "metadata": {},
   "outputs": [],
   "source": [
    "print(chatbot(\"How do I change my name on my policy ?\"))"
   ]
  },
  {
   "cell_type": "code",
   "execution_count": null,
   "metadata": {},
   "outputs": [
    {
     "name": "stdout",
     "output_type": "stream",
     "text": [
      "You must pay all the costs up to the deductible amount before this plan begins to pay for covered services you use. This means that you should pay the deductible amount when you receive covered services, before the insurance starts covering the costs.\n"
     ]
    }
   ],
   "source": [
    "print(chatbot(\"When should I pay the deductible amount?\"))"
   ]
  },
  {
   "cell_type": "code",
   "execution_count": null,
   "metadata": {},
   "outputs": [
    {
     "name": "stdout",
     "output_type": "stream",
     "text": [
      "Based on the information provided, I don't have data on when you should pay. However, I can tell you that commissions are paid between the 10th and 16th of the month, but they are paid in arrears.\n"
     ]
    }
   ],
   "source": [
    "print(chatbot(\"When should I pay?\"))"
   ]
  },
  {
   "cell_type": "code",
   "execution_count": null,
   "metadata": {},
   "outputs": [
    {
     "name": "stdout",
     "output_type": "stream",
     "text": [
      "Based on the information provided, I don't have enough details to determine if you would pay less by using a network provider. The context indicates that there are various plans with different networks, but it does not specify how costs are associated with those networks. For a more accurate answer, you may need to check the specifics of the plans in the benefits store.\n"
     ]
    }
   ],
   "source": [
    "print(chatbot(\"Will I pay less if I use a  network provider? \"))"
   ]
  },
  {
   "cell_type": "code",
   "execution_count": null,
   "metadata": {},
   "outputs": [
    {
     "name": "stdout",
     "output_type": "stream",
     "text": [
      "The insurance covers a portion of the cost for medical services, depending on the specific service and whether you use an in-network or out-of-network provider. For example, if you visit a health care provider's office or clinic, the insurance covers $30 of the cost if you use a Tier 1 (Northwell Direct) provider, and $50 if you use a Tier 2 (BCBS Out of Network) provider. There are also deductibles, co-payments, and co-insurance amounts that you may need to pay, depending on the specific service and your plan details. It's best to refer to your policy or plan document for specific information about what is covered and how much you will need to pay.\n"
     ]
    }
   ],
   "source": [
    "print(chatbot(\"How much does the insurance cover? \"))"
   ]
  },
  {
   "cell_type": "code",
   "execution_count": null,
   "metadata": {},
   "outputs": [
    {
     "name": "stdout",
     "output_type": "stream",
     "text": [
      "Using a network provider can lower your out-of-pocket costs as the patient will receive care from in-network providers, which means the costs would be based on treating the condition in the example and would not be higher as compared to receiving care from out-of-network providers.\n"
     ]
    }
   ],
   "source": [
    "print(chatbot(\"How will using a network provider effect my cost?\"))"
   ]
  },
  {
   "cell_type": "code",
   "execution_count": null,
   "metadata": {},
   "outputs": [],
   "source": []
  }
 ],
 "metadata": {
  "kernelspec": {
   "display_name": "env",
   "language": "python",
   "name": "python3"
  },
  "language_info": {
   "codemirror_mode": {
    "name": "ipython",
    "version": 3
   },
   "file_extension": ".py",
   "mimetype": "text/x-python",
   "name": "python",
   "nbconvert_exporter": "python",
   "pygments_lexer": "ipython3",
   "version": "3.11.3"
  }
 },
 "nbformat": 4,
 "nbformat_minor": 2
}
